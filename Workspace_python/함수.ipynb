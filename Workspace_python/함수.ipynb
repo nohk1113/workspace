{
 "cells": [
  {
   "cell_type": "code",
   "execution_count": null,
   "metadata": {},
   "outputs": [],
   "source": [
    "# 함수 선언\n",
    "def sayHello():\n",
    "  print('hi')\n",
    "  print('hello')\n",
    "\n",
    "  sayHello()"
   ]
  },
  {
   "cell_type": "code",
   "execution_count": 2,
   "metadata": {},
   "outputs": [
    {
     "name": "stdout",
     "output_type": "stream",
     "text": [
      "30\n"
     ]
    }
   ],
   "source": [
    "# 리턴이 있는 함수 \n",
    "def getSum():\n",
    "  return 10+20\n",
    "\n",
    "print(getSum())"
   ]
  },
  {
   "cell_type": "code",
   "execution_count": 3,
   "metadata": {},
   "outputs": [],
   "source": [
    "# 파이썬은 함수에서 리턴을 여러개 할수있다\n",
    "def getNumbers() :\n",
    "  return 10, 20\n",
    "\n",
    "result=getNumbers()\n",
    "print(result)"
   ]
  },
  {
   "cell_type": "code",
   "execution_count": null,
   "metadata": {},
   "outputs": [],
   "source": [
    "# 매개변수가 있는 함수 \n",
    "def getMulti(num1, num2) :\n",
    "  return num1*num2\n",
    "\n",
    "print(getMulti(10, 5))"
   ]
  },
  {
   "cell_type": "code",
   "execution_count": 4,
   "metadata": {},
   "outputs": [],
   "source": [
    "# 매개변수의 default 값을 지저ㅇ할수 있다\n",
    "def getSum(num1, num2, num3=10):\n",
    "  return num1+num2+num3\n",
    "\n",
    "print(getSum(1,2,3))\n",
    "print(getSum(1,2))"
   ]
  },
  {
   "cell_type": "code",
   "execution_count": null,
   "metadata": {},
   "outputs": [],
   "source": [
    "# 매개변수에 들어가는 인자를 이름으로 지정할수 있다\n",
    "def setmember(name, age, addr) :\n",
    "  print(f'이름은{name}')\n",
    "  print(f'나이는{age}')\n",
    "  print(f'주소는{addr}')\n",
    "\n",
    "  setmember('홍', 30, '울산')\n",
    "  setmember(name='홍',age= 30,addr= '울산')\n"
   ]
  },
  {
   "cell_type": "code",
   "execution_count": 8,
   "metadata": {},
   "outputs": [
    {
     "name": "stdout",
     "output_type": "stream",
     "text": [
      "<function number1 at 0x0000025EFDC32C00>\n"
     ]
    }
   ],
   "source": [
    "# 매개변수로 정수로 이루어진 두개의 리스트가 들어올때\n",
    "# 두 리스트의 모든 요소중 가장 큰 값을 리턴하는 함수\n",
    "def number1(list1, list2):\n",
    "  return max(list1, list2) \n",
    "\n",
    "print(number1([1,2,3], [4,5,6]))"
   ]
  },
  {
   "cell_type": "code",
   "execution_count": null,
   "metadata": {},
   "outputs": [],
   "source": [
    "# 매개변수로 세개의 문자열이 전달되면\n",
    "# 세 문자열의 2번째 글자를 모은 리스트를 리턴하는 함수\n",
    "#  단 매개변수로 전달되는 문자열은 모두 길이가 3이상인 문자열만 들어온다고 가정한다\n",
    "# ex) 'school', 'phone', 'home' -->['h', 'o', 'm']\n"
   ]
  }
 ],
 "metadata": {
  "kernelspec": {
   "display_name": "Python 3",
   "language": "python",
   "name": "python3"
  },
  "language_info": {
   "codemirror_mode": {
    "name": "ipython",
    "version": 3
   },
   "file_extension": ".py",
   "mimetype": "text/x-python",
   "name": "python",
   "nbconvert_exporter": "python",
   "pygments_lexer": "ipython3",
   "version": "3.12.5"
  }
 },
 "nbformat": 4,
 "nbformat_minor": 2
}
