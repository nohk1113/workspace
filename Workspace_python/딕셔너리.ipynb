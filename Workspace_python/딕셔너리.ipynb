{
 "cells": [
  {
   "cell_type": "code",
   "execution_count": null,
   "metadata": {},
   "outputs": [],
   "source": [
    "# 딕셔너리\n",
    "# 여러 데이터가 key와 value의 쌍으로 지정한 데이터"
   ]
  },
  {
   "cell_type": "code",
   "execution_count": null,
   "metadata": {},
   "outputs": [],
   "source": [
    "# 딕셔너리 생성\n",
    "dic1={}\n",
    "dic2={'name':'kim', 'age':20}"
   ]
  },
  {
   "cell_type": "code",
   "execution_count": 1,
   "metadata": {},
   "outputs": [
    {
     "name": "stdout",
     "output_type": "stream",
     "text": [
      "{'stuNum': 3, 'stuName': 'him'}\n"
     ]
    }
   ],
   "source": [
    "# 중복된 key값을 가질수 없음\n",
    "dic3={\n",
    "  'stuNum':1, \n",
    "  'stuName':'him',\n",
    "  'stuNum':3\n",
    "}\n",
    "\n",
    "print(dic3)"
   ]
  },
  {
   "cell_type": "code",
   "execution_count": null,
   "metadata": {},
   "outputs": [],
   "source": [
    "# 데이터 추가\n",
    "# dic['key]=value\n",
    "dic1={}\n",
    "dic1['name']='lee'\n",
    "dic1['age']=30\n",
    "\n",
    "# name이라는 key값을 kim 으로 변경\n",
    "dic1['name']='kim'\n",
    "print(dic1)"
   ]
  },
  {
   "cell_type": "code",
   "execution_count": 2,
   "metadata": {},
   "outputs": [
    {
     "name": "stdout",
     "output_type": "stream",
     "text": [
      "{'mpdelName': 'ipone', 'price': 10000}\n"
     ]
    }
   ],
   "source": [
    "# 데이터 삭제\n",
    "phone={\n",
    "  'mpdelName':'ipone',\n",
    "  'price':10000,\n",
    "  'color':'black'\n",
    "}\n",
    "\n",
    "del phone['color']\n",
    "print(phone)"
   ]
  },
  {
   "cell_type": "code",
   "execution_count": 5,
   "metadata": {},
   "outputs": [
    {
     "name": "stdout",
     "output_type": "stream",
     "text": [
      "samsumg\n",
      "dict_keys(['brand', 'price', 'inch', 'color'])\n",
      "dict_values(['samsumg', 10000, 24, 'white'])\n",
      "brand\n",
      "price\n",
      "inch\n",
      "color\n"
     ]
    }
   ],
   "source": [
    "# 데이터 출력\n",
    "monitor={\n",
    "  'brand':'samsumg',\n",
    "  'price': 10000,\n",
    "  'inch':24,\n",
    "  'color':'white'\n",
    "}\n",
    "# 브랜드만 출력\n",
    "print(monitor['brand'])\n",
    "\n",
    "# 모든 키값을 출력\n",
    "print(monitor.keys())\n",
    "\n",
    "# 모든 value값 출력\n",
    "print(monitor.values())\n",
    "\n",
    "# 반복문을 이용한 key와 value를 출력\n",
    "for i in monitor.keys() :\n",
    "  print(key, monitor[key])"
   ]
  },
  {
   "cell_type": "code",
   "execution_count": 9,
   "metadata": {},
   "outputs": [
    {
     "name": "stdout",
     "output_type": "stream",
     "text": [
      "game\n",
      "lee\n"
     ]
    }
   ],
   "source": [
    "intro={\n",
    "  'name':'hong',\n",
    "  'age':20,\n",
    "  'hobby':['game', 'study'],\n",
    "  'family':{\n",
    "    'mother':'lee',\n",
    "    'father':'hong'\n",
    "  }\n",
    "}\n",
    "\n",
    "# intro 데이터에 첫번째 취미 출력\n",
    "print(intro['hobby'][0])\n",
    "# 너머니의 이름 출력\n",
    "print(intro['family']['mother'])"
   ]
  },
  {
   "cell_type": "code",
   "execution_count": null,
   "metadata": {},
   "outputs": [],
   "source": [
    "# 아래의 데이터를 참고하여 문제 해결\n",
    "\n",
    "student={\n",
    "  'name':'hong',\n",
    "  'korScore':0,\n",
    "  'mathScore':0\n",
    "}"
   ]
  },
  {
   "cell_type": "code",
   "execution_count": 13,
   "metadata": {},
   "outputs": [
    {
     "ename": "NameError",
     "evalue": "name 'student' is not defined",
     "output_type": "error",
     "traceback": [
      "\u001b[1;31m---------------------------------------------------------------------------\u001b[0m",
      "\u001b[1;31mNameError\u001b[0m                                 Traceback (most recent call last)",
      "Cell \u001b[1;32mIn[13], line 2\u001b[0m\n\u001b[0;32m      1\u001b[0m \u001b[38;5;66;03m# 위에서 선언한 딕셔너리 데이터의 국어점수 및 수학점수를 키보드를 입력받은 데이터로 변경시킨다\u001b[39;00m\n\u001b[1;32m----> 2\u001b[0m \u001b[43mstudent\u001b[49m[\u001b[38;5;124m'\u001b[39m\u001b[38;5;124mname\u001b[39m\u001b[38;5;124m'\u001b[39m]\u001b[38;5;241m=\u001b[39m\u001b[38;5;28minput\u001b[39m(\u001b[38;5;124m'\u001b[39m\u001b[38;5;124m이름:\u001b[39m\u001b[38;5;124m'\u001b[39m)\n\u001b[0;32m      3\u001b[0m \u001b[38;5;66;03m# 국어점수와 수학점수가 변경되었다면 총점을 저장한다\u001b[39;00m\n\u001b[0;32m      4\u001b[0m \u001b[38;5;66;03m# 총점의 키는 'totalScore'라고 지정\u001b[39;00m\n",
      "\u001b[1;31mNameError\u001b[0m: name 'student' is not defined"
     ]
    }
   ],
   "source": [
    "# 위에서 선언한 딕셔너리 데이터의 국어점수 및 수학점수를 키보드를 입력받은 데이터로 변경시킨다\n",
    "student['kroScore']=int(input('점수:'))\n",
    "student['mathScore']=int(input('점수:'))\n",
    "# 국어점수와 수학점수가 변경되었다면 총점을 저장한다\n",
    "\n",
    "# 총점의 키는 'totalScore'라고 지정\n",
    "student['total']=student['korscore']+student['mathScore']\n",
    "print(student)"
   ]
  }
 ],
 "metadata": {
  "kernelspec": {
   "display_name": "Python 3",
   "language": "python",
   "name": "python3"
  },
  "language_info": {
   "codemirror_mode": {
    "name": "ipython",
    "version": 3
   },
   "file_extension": ".py",
   "mimetype": "text/x-python",
   "name": "python",
   "nbconvert_exporter": "python",
   "pygments_lexer": "ipython3",
   "version": "3.12.5"
  }
 },
 "nbformat": 4,
 "nbformat_minor": 2
}
