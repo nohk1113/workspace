{
 "cells": [
  {
   "cell_type": "markdown",
   "metadata": {},
   "source": [
    "Markdown 영역은 코드를 작성하는 곳이 아니라 코멘트를 푸가하는 영역\n",
    "#### jupyter 단축키\n",
    "* y : 코드를 실행할수있는 cell로 변환\n",
    "* m: 마크다운을 쓰수있는  cell로 변환\n",
    "* ctrl+enter : cell 을 실행\n",
    "* ctrl+space : 코드 자동완성\n",
    "* a: 현제 cell의 위에 하나의 cell을 추가한다\n",
    "* b: 현제 cell의 아래에 하나의 cell을 추가한다\n",
    "* dd : 현재 cell 삭제 \n",
    "# 제목\n"
   ]
  },
  {
   "cell_type": "markdown",
   "metadata": {},
   "source": [
    "### 파이썬에서의 출력문"
   ]
  },
  {
   "cell_type": "code",
   "execution_count": 4,
   "metadata": {},
   "outputs": [
    {
     "name": "stdout",
     "output_type": "stream",
     "text": [
      "12\n",
      "python\n",
      "쌍따옴표도 가능함\n"
     ]
    }
   ],
   "source": [
    "#  주석입니다\n",
    "#  파이썬에서의 출력할때는 print()함수 사용\n",
    "#  ()안의 내용을 출력\n",
    "#  파이썬 에서 출력할때는 '', \"\"  둘다 가능함\n",
    "print(12)\n",
    "print('python')\n",
    "print(\"쌍따옴표도 가능함\")"
   ]
  },
  {
   "cell_type": "code",
   "execution_count": 8,
   "metadata": {},
   "outputs": [
    {
     "name": "stdout",
     "output_type": "stream",
     "text": [
      "9\n",
      "2.5\n",
      "2\n",
      "1\n"
     ]
    }
   ],
   "source": [
    "#  출력문 안에 연산식은 연산의 결과가 나옴\n",
    "print(5+4)\n",
    "print(10/4)\n",
    "print(10//4)         # 나눗셈의 몫 \n",
    "print(10%3)   # 나머지만 나옴"
   ]
  },
  {
   "cell_type": "code",
   "execution_count": 11,
   "metadata": {},
   "outputs": [
    {
     "name": "stdout",
     "output_type": "stream",
     "text": [
      "pythonjava\n"
     ]
    }
   ],
   "source": [
    "#  문자열 출력\n",
    "print('python'+'java')\n",
    "# print('python'+5)    문자열과 숫자의 더하기는 안됨"
   ]
  },
  {
   "cell_type": "code",
   "execution_count": 12,
   "metadata": {},
   "outputs": [
    {
     "name": "stdout",
     "output_type": "stream",
     "text": [
      "10 20 python java\n"
     ]
    }
   ],
   "source": [
    "# 파이썬 만의 문법\n",
    "print(10,20,'python', 'java')"
   ]
  },
  {
   "cell_type": "code",
   "execution_count": 1,
   "metadata": {},
   "outputs": [
    {
     "name": "stdout",
     "output_type": "stream",
     "text": [
      "python python "
     ]
    }
   ],
   "source": [
    "print('python', end=' ')\n",
    "print('python', end=' ')\n",
    "#  print 함수의 end 매개변수의 값을 변경해서 출력 후 실행 할 내용을 변경"
   ]
  }
 ],
 "metadata": {
  "kernelspec": {
   "display_name": "Python 3",
   "language": "python",
   "name": "python3"
  },
  "language_info": {
   "codemirror_mode": {
    "name": "ipython",
    "version": 3
   },
   "file_extension": ".py",
   "mimetype": "text/x-python",
   "name": "python",
   "nbconvert_exporter": "python",
   "pygments_lexer": "ipython3",
   "version": "3.12.5"
  }
 },
 "nbformat": 4,
 "nbformat_minor": 2
}
