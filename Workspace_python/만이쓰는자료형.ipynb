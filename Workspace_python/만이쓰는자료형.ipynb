{
 "cells": [
  {
   "cell_type": "code",
   "execution_count": null,
   "metadata": {},
   "outputs": [],
   "source": [
    "# 자바에서는 리스트 , 배열 // 자바 스크립트에서는 배열\n",
    "#  파이썬에서는 리스트 \n",
    "\n",
    "# 자바스크립트- 객체    자바-클래쓰\n",
    "# 파이썬- 딕셔너리"
   ]
  },
  {
   "cell_type": "code",
   "execution_count": 2,
   "metadata": {},
   "outputs": [
    {
     "name": "stdout",
     "output_type": "stream",
     "text": [
      "['옹', 2, 'mang']\n",
      "2\n"
     ]
    }
   ],
   "source": [
    "# 리스트\n",
    "# 주의사항 : 변수명으로 list 사용 금지 !!!\n",
    "\n",
    "list1=[1,2,3]\n",
    "list2=['옹', 2, 'mang']\n",
    "\n",
    "print(list2)\n",
    "print(list2[1])"
   ]
  },
  {
   "cell_type": "code",
   "execution_count": 4,
   "metadata": {},
   "outputs": [
    {
     "name": "stdout",
     "output_type": "stream",
     "text": [
      "{'stuNum': 1, 'name': '홍홍홍', 'score': 80}\n",
      "홍홍홍\n"
     ]
    }
   ],
   "source": [
    "# 딕셔너리 \n",
    "student={'stuNum':1, 'name':'홍홍홍', 'score':80}\n",
    "print(student)\n",
    "print(student['name'])"
   ]
  }
 ],
 "metadata": {
  "kernelspec": {
   "display_name": "Python 3",
   "language": "python",
   "name": "python3"
  },
  "language_info": {
   "codemirror_mode": {
    "name": "ipython",
    "version": 3
   },
   "file_extension": ".py",
   "mimetype": "text/x-python",
   "name": "python",
   "nbconvert_exporter": "python",
   "pygments_lexer": "ipython3",
   "version": "3.12.5"
  }
 },
 "nbformat": 4,
 "nbformat_minor": 2
}
