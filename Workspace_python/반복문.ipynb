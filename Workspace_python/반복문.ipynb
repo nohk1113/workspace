{
 "cells": [
  {
   "cell_type": "code",
   "execution_count": 2,
   "metadata": {},
   "outputs": [
    {
     "name": "stdout",
     "output_type": "stream",
     "text": [
      "1\n",
      "2\n",
      "3\n"
     ]
    }
   ],
   "source": [
    "# 파이썬은 for-each문만 있음\n",
    "for i in [1,2,3]: \n",
    "  print(i)"
   ]
  },
  {
   "cell_type": "code",
   "execution_count": 3,
   "metadata": {},
   "outputs": [
    {
     "name": "stdout",
     "output_type": "stream",
     "text": [
      "1\n",
      "2\n",
      "3\n",
      "4\n"
     ]
    }
   ],
   "source": [
    "numlist=[1,2,3,4]\n",
    "\n",
    "for i in numlist:\n",
    "  print(i)"
   ]
  },
  {
   "cell_type": "code",
   "execution_count": 6,
   "metadata": {},
   "outputs": [
    {
     "name": "stdout",
     "output_type": "stream",
     "text": [
      "1\n",
      "2\n",
      "3\n",
      "4\n",
      "0\n",
      "1\n",
      "2\n"
     ]
    }
   ],
   "source": [
    "for i in range(1,5):\n",
    "  print(i)\n",
    "  # range (a,b) : a부터 b 이전까지 1씩 증가되는 숫자의 나열\n",
    "  #   range(1,5)  : 1,2,3,4\n",
    "  # range(5): 첫번째 매개변수를 0으로 지정\n",
    "\n",
    "# 3번 반복\n",
    "for i in range(3):\n",
    "  print(i)"
   ]
  },
  {
   "cell_type": "code",
   "execution_count": 20,
   "metadata": {},
   "outputs": [
    {
     "name": "stdout",
     "output_type": "stream",
     "text": [
      "5\n"
     ]
    }
   ],
   "source": [
    "# 1. 1~10까지의 정수중 짝수의 개수 출력\n",
    "cnt=0\n",
    "for i in range(1,11):\n",
    "  if i%2==0:\n",
    "    cnt=cnt+1\n",
    "print(cnt)"
   ]
  },
  {
   "cell_type": "code",
   "execution_count": 16,
   "metadata": {},
   "outputs": [
    {
     "name": "stdout",
     "output_type": "stream",
     "text": [
      "3\n",
      "6\n",
      "9\n",
      "12\n",
      "15\n",
      "18\n"
     ]
    }
   ],
   "source": [
    "# 1~20까지의 정수 중 3의 갯수를 출력하고, 3의 배수도 모듀 출력  \n",
    "for i in range(1,21):\n",
    "  if i%3==0:\n",
    "    print(i)"
   ]
  },
  {
   "cell_type": "code",
   "execution_count": 24,
   "metadata": {},
   "outputs": [
    {
     "name": "stdout",
     "output_type": "stream",
     "text": [
      "14\n"
     ]
    }
   ],
   "source": [
    "# 키보드로 입력받은  두 정수사이 (입력받은 정수는 미포함)의\n",
    "# 모든 수의 합을 출력\n",
    "num1=int(input('정수 입력:'))\n",
    "num2=int(input('정수 입력:'))\n",
    "\n",
    "# 큰수 작은수 변수\n",
    "max=0\n",
    "min=0\n",
    "# 큰수 작은수 결정\n",
    "if num1>num2:\n",
    "  max=num1\n",
    "  min=num2\n",
    "else:\n",
    "  max=num2\n",
    "  min=num1\n",
    "\n",
    "#  모든 수의 합\n",
    "sum =0\n",
    "for i in range(min+1, max):\n",
    "  sum=sum+1\n",
    "\n",
    "print(sum)"
   ]
  },
  {
   "cell_type": "code",
   "execution_count": null,
   "metadata": {},
   "outputs": [],
   "source": [
    "# 키보드로 입력받은  두 정수사이 (입력받은 정수는 미포함)의\n",
    "# 모든 수의 합을 출력\n",
    "num1=int(input('정수 입력:'))\n",
    "num2=int(input('정수 입력:'))\n",
    "\n",
    "# 큰수 작은수를 삼항연산자로 계산\n",
    "# 자바 : 조건? 참: 거짓\n",
    "#  파이썬 :  참일때 값   if   조건   else  거짓일때 값\n",
    "max=num1 if num1>num2 else num2\n",
    "min=num1 if num1<num2 else num2\n",
    "\n",
    "#  모든 수의 합\n",
    "sum =0\n",
    "for i in range(min+1, max):\n",
    "  sum=sum+1\n",
    "\n",
    "print(sum)"
   ]
  },
  {
   "cell_type": "code",
   "execution_count": null,
   "metadata": {},
   "outputs": [],
   "source": [
    "# 아래에 제시가 data 에서 5가 포함되어 있는지 판단하고 , 5가 포함되어있으면 '포함'을 출력\n",
    "data=[1,3,5,7,9]\n",
    "\n",
    "for i in data:\n",
    "  if i==5:\n",
    "    print('포함')\n",
    "\n",
    "# 파이썬 접근 방법\n",
    "if 5 in data:\n",
    "  print('포함')"
   ]
  }
 ],
 "metadata": {
  "kernelspec": {
   "display_name": "Python 3",
   "language": "python",
   "name": "python3"
  },
  "language_info": {
   "codemirror_mode": {
    "name": "ipython",
    "version": 3
   },
   "file_extension": ".py",
   "mimetype": "text/x-python",
   "name": "python",
   "nbconvert_exporter": "python",
   "pygments_lexer": "ipython3",
   "version": "3.12.5"
  }
 },
 "nbformat": 4,
 "nbformat_minor": 2
}
