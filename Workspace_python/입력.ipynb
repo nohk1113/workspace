{
 "cells": [
  {
   "cell_type": "code",
   "execution_count": 2,
   "metadata": {},
   "outputs": [
    {
     "name": "stdout",
     "output_type": "stream",
     "text": [
      "입력받은 숫자는 12 입니다\n"
     ]
    }
   ],
   "source": [
    "# 키보드로 입력 받기\n",
    "#  input() 함수 사용으로 키보드로 값을 입력받을수 있다.\n",
    "#  input() 함수를 사용하여 키보드로 입력받은 값을 문자열로 인식\n",
    "#  문자열을 숫자로 : int()\n",
    "num = input('숫자를 입력하세요 : ')\n",
    "print(f'입력받은 숫자는 {num} 입니다')"
   ]
  },
  {
   "cell_type": "code",
   "execution_count": 8,
   "metadata": {},
   "outputs": [
    {
     "name": "stdout",
     "output_type": "stream",
     "text": [
      "110\n"
     ]
    }
   ],
   "source": [
    "# 문자열을 정수로 변환\n",
    "result =int('10')\n",
    "result2 =int('100')\n",
    "print(result+result2)"
   ]
  },
  {
   "cell_type": "code",
   "execution_count": 11,
   "metadata": {},
   "outputs": [
    {
     "name": "stdout",
     "output_type": "stream",
     "text": [
      "17\n"
     ]
    }
   ],
   "source": [
    "#  두정수를 입력받아 두정수의 합을 출력\n",
    "num1= int(input ('첫번째 숫자 : '))\n",
    "num2= int(input('두번째 숫자 : '))\n",
    "\n",
    "print(num1+num2)"
   ]
  },
  {
   "cell_type": "code",
   "execution_count": 15,
   "metadata": {},
   "outputs": [
    {
     "name": "stdout",
     "output_type": "stream",
     "text": [
      "이름: 모모, 국어점수: 50, 영어점수: 50, 수학점수: 50, 총점 : 150, 평균: 50\n"
     ]
    }
   ],
   "source": [
    "# 키보드로 학생의 이름 나이 국어점수, 영어점수, 수학점수를 입력받아\n",
    "# 입력받은 학생의 이름, 나이, 국어점수, 수학점수 및 총점과 평균을 출력\n",
    "name=input('이름 입력: ')\n",
    "kor=int(input('국어점수: '))\n",
    "eng=int(input('영어점수:'))\n",
    "ma=int(input('수학 점수: '))\n",
    "total=kor+eng+ma\n",
    "evg=total/3\n",
    "print(f'이름: {name}, 국어점수: {kor}, 영어점수: {eng}, 수학점수: {ma}, 총점 : {total}, 평균: {eng}')\n"
   ]
  }
 ],
 "metadata": {
  "kernelspec": {
   "display_name": "Python 3",
   "language": "python",
   "name": "python3"
  },
  "language_info": {
   "codemirror_mode": {
    "name": "ipython",
    "version": 3
   },
   "file_extension": ".py",
   "mimetype": "text/x-python",
   "name": "python",
   "nbconvert_exporter": "python",
   "pygments_lexer": "ipython3",
   "version": "3.12.5"
  }
 },
 "nbformat": 4,
 "nbformat_minor": 2
}
