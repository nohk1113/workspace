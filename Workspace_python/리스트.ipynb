{
 "cells": [
  {
   "cell_type": "code",
   "execution_count": null,
   "metadata": {},
   "outputs": [],
   "source": [
    "# list 변수를 만들때 변수명 list 사용 X\n",
    "# list 생성 \n",
    "list1=[]\n",
    "list2=[1,2,3,4,5,'ma']\n",
    "list3=[1,2,[3,4,5,6], [7,8]]\n",
    "\n",
    "# 리스트의 요소에 접근하는 방법\n",
    "list[0]"
   ]
  },
  {
   "cell_type": "code",
   "execution_count": 2,
   "metadata": {},
   "outputs": [
    {
     "name": "stdout",
     "output_type": "stream",
     "text": [
      "5\n"
     ]
    }
   ],
   "source": [
    "list3=[1,2,[3,4,5,6], [7,8]]\n",
    "\n",
    "# 위의 리스트에서 5만 출력\n",
    "print(list3[2][2])\n"
   ]
  },
  {
   "cell_type": "code",
   "execution_count": 6,
   "metadata": {},
   "outputs": [
    {
     "name": "stdout",
     "output_type": "stream",
     "text": [
      "[1, 2, '홍', [1, 2, 3]]\n"
     ]
    }
   ],
   "source": [
    "# 리스트에 데이터를 추가\n",
    "# 빈리스트 생성\n",
    "list1=[]\n",
    "\n",
    "# 데이터 추가  (차례대로 추가가 됨) append()\n",
    "list1.append(1)\n",
    "list1.append(2)\n",
    "list1.append('홍')\n",
    "list1.append([1,2,3])\n",
    "\n",
    "print(list1)"
   ]
  },
  {
   "cell_type": "code",
   "execution_count": 7,
   "metadata": {},
   "outputs": [
    {
     "name": "stdout",
     "output_type": "stream",
     "text": [
      "[1, 5, 2, '홍', [1, 2, 3]]\n"
     ]
    }
   ],
   "source": [
    "# 데이터 추가 두번째\n",
    "# insert(추가할 위치, 추가할 데이터)\n",
    "list1.insert(1,5)\n",
    "print(list1)"
   ]
  },
  {
   "cell_type": "code",
   "execution_count": 11,
   "metadata": {},
   "outputs": [
    {
     "name": "stdout",
     "output_type": "stream",
     "text": [
      "삭제전 데이터\n",
      "[1, 5, '홍', [1, 2, 3]]\n",
      "삭제후 데이터\n",
      "[1, '홍', [1, 2, 3]]\n"
     ]
    }
   ],
   "source": [
    "# 리스트 데이터 삭제\n",
    "print('삭제전 데이터')\n",
    "print(list1)\n",
    "\n",
    "list1.remove(5)\n",
    "\n",
    "print('삭제후 데이터')\n",
    "print(list1)"
   ]
  },
  {
   "cell_type": "code",
   "execution_count": 13,
   "metadata": {},
   "outputs": [
    {
     "name": "stdout",
     "output_type": "stream",
     "text": [
      "[2, 'p', [1, 2, 3]]\n"
     ]
    }
   ],
   "source": [
    "# 리스트 데이터 삭제 2(추천)\n",
    "\n",
    "list4=[1,2,'p',[1,2,3]]\n",
    "\n",
    "# 0번째 요소의 데이터를 삭제\n",
    "del list4[0]\n",
    "print(list4)"
   ]
  },
  {
   "cell_type": "code",
   "execution_count": 15,
   "metadata": {},
   "outputs": [],
   "source": [
    "# 삭제 시 주의\n",
    "# 아래 코드는 list4 자체를 삭제\n",
    "del list4"
   ]
  },
  {
   "cell_type": "code",
   "execution_count": 16,
   "metadata": {},
   "outputs": [
    {
     "ename": "NameError",
     "evalue": "name 'list4' is not defined",
     "output_type": "error",
     "traceback": [
      "\u001b[1;31m---------------------------------------------------------------------------\u001b[0m",
      "\u001b[1;31mNameError\u001b[0m                                 Traceback (most recent call last)",
      "Cell \u001b[1;32mIn[16], line 1\u001b[0m\n\u001b[1;32m----> 1\u001b[0m \u001b[38;5;28mprint\u001b[39m(\u001b[43mlist4\u001b[49m)\n",
      "\u001b[1;31mNameError\u001b[0m: name 'list4' is not defined"
     ]
    }
   ],
   "source": [
    "print(list4)"
   ]
  },
  {
   "cell_type": "code",
   "execution_count": 17,
   "metadata": {},
   "outputs": [
    {
     "name": "stdout",
     "output_type": "stream",
     "text": [
      "[1, 5, 3]\n"
     ]
    }
   ],
   "source": [
    "list5=[1,2,3]\n",
    "list5[1]=5\n",
    "\n",
    "print(list5)"
   ]
  },
  {
   "cell_type": "code",
   "execution_count": 19,
   "metadata": {},
   "outputs": [
    {
     "name": "stdout",
     "output_type": "stream",
     "text": [
      "[1, 2, 3, 4, 5]\n",
      "[1, 2, 3, 1, 2, 3]\n"
     ]
    }
   ],
   "source": [
    "# 리스트 합치기\n",
    "list6=[1,2,3]+[4,5]\n",
    "print(list6)\n",
    "\n",
    "list7=[1,2,3]*2\n",
    "print(list7)"
   ]
  },
  {
   "cell_type": "code",
   "execution_count": 22,
   "metadata": {},
   "outputs": [
    {
     "name": "stdout",
     "output_type": "stream",
     "text": [
      "[2, 3, 4]\n",
      "[2, 3, 4, 5]\n",
      "[1, 2, 3]\n"
     ]
    }
   ],
   "source": [
    "# list의 슬라이싱 : 리스트 데이터의 일부를 추출\n",
    "list1=[1,2,3,4,5]\n",
    "print(list1[1:4])\n",
    "# 0번째\n",
    "print(list1[1:])\n",
    "# 처음부터\n",
    "print(list1[:3])\n",
    "# 처음부터 마지막 까지\n",
    "print(list1[:])"
   ]
  },
  {
   "cell_type": "code",
   "execution_count": 23,
   "metadata": {},
   "outputs": [
    {
     "name": "stdout",
     "output_type": "stream",
     "text": [
      "[1, 4, 5]\n"
     ]
    }
   ],
   "source": [
    "# 슬라이싱을 이용한 데이터 삭제\n",
    "list1=[1,2,3,4,5]\n",
    "del list1[1:3]        # 1~3번째 전까지 삭제 즉 1~2번째까지 삭제\n",
    "print(list1)"
   ]
  },
  {
   "cell_type": "code",
   "execution_count": 24,
   "metadata": {},
   "outputs": [
    {
     "name": "stdout",
     "output_type": "stream",
     "text": [
      "[1, 10, 1, 4, 5]\n"
     ]
    }
   ],
   "source": [
    "# 슬라이싱을 이용한 데이터 수정\n",
    "list1=[1,2,3,4,5]\n",
    "list1[1:3]=[10, 1]\n",
    "print(list1)"
   ]
  },
  {
   "cell_type": "code",
   "execution_count": 25,
   "metadata": {},
   "outputs": [
    {
     "name": "stdout",
     "output_type": "stream",
     "text": [
      "2\n",
      "5\n"
     ]
    }
   ],
   "source": [
    "list1=[1,2,3,4,5]\n",
    "print(list1[1])\n",
    "print(list1[-1])"
   ]
  },
  {
   "cell_type": "code",
   "execution_count": 26,
   "metadata": {},
   "outputs": [
    {
     "name": "stdout",
     "output_type": "stream",
     "text": [
      "5\n",
      "[2, 3, 4]\n"
     ]
    }
   ],
   "source": [
    "# 리스트의 마지막 데이터를 알고 싶을 때 [-1] 사용\n",
    "list=[1,2,3,4,5]\n",
    "print(list1[-1])\n",
    "print(list1[1:-1])"
   ]
  },
  {
   "cell_type": "code",
   "execution_count": null,
   "metadata": {},
   "outputs": [],
   "source": [
    "# 시험 문제 "
   ]
  },
  {
   "cell_type": "code",
   "execution_count": 38,
   "metadata": {},
   "outputs": [
    {
     "name": "stdout",
     "output_type": "stream",
     "text": [
      "6\n"
     ]
    }
   ],
   "source": [
    "# 1. 키보드러 세수를 입력받고, 입력받은 세 수를 리스트에 저장하시오. 그 후리스트에 저장된 수 중 가장 큰수와 가장 작은 수의 차를 출력하시오 \n",
    "list1=[]\n",
    "for i in range(3):\n",
    "  num=int(input(f'{i+1}번째 정수 입력'))\n",
    "  list1.append(num)\n",
    "\n",
    "anser=max(list1)-min(list1)\n",
    "\n",
    "print(anser)\n",
    "\n",
    "# max(알아서 가장 큰값을 알려줌)  min(가장 작은수를 알려줌)\n",
    "# print(max([1,2,3])-min([1,2,3]))"
   ]
  },
  {
   "cell_type": "code",
   "execution_count": null,
   "metadata": {},
   "outputs": [],
   "source": [
    "# 2. 매개변수로 두개의 리스트를 받아, 두개의 리스트에 저장된 모든 데이터의 합을 리턴하는 함수를 잗성하시오"
   ]
  },
  {
   "cell_type": "code",
   "execution_count": null,
   "metadata": {},
   "outputs": [],
   "source": [
    "# 아래 제시된 데이터에서 3의 갯수를 출력하시오\n",
    "data=[1,2,3[1,5],[2,3,4],3,[8,5,3]]"
   ]
  },
  {
   "cell_type": "code",
   "execution_count": null,
   "metadata": {},
   "outputs": [],
   "source": [
    "# 문자열도 리스트다    substring-- 자바\n",
    "name='python'\n",
    "print(name[0])\n",
    "\n",
    "print(name[1:4])"
   ]
  },
  {
   "cell_type": "code",
   "execution_count": 54,
   "metadata": {},
   "outputs": [
    {
     "name": "stdout",
     "output_type": "stream",
     "text": [
      "4\n"
     ]
    }
   ],
   "source": [
    "# 아래 리스트에 저잘된 문자열에서 'r' 이라는 알파벡의 갯수를 출력\n",
    "strlist=['father', 'mother','brother' ]\n",
    "\n",
    "cnt=0\n",
    "for i in strlist:\n",
    "  for e in i :\n",
    "    if e =='r':\n",
    "      cnt=cnt+1\n",
    "print(cnt)"
   ]
  }
 ],
 "metadata": {
  "kernelspec": {
   "display_name": "Python 3",
   "language": "python",
   "name": "python3"
  },
  "language_info": {
   "codemirror_mode": {
    "name": "ipython",
    "version": 3
   },
   "file_extension": ".py",
   "mimetype": "text/x-python",
   "name": "python",
   "nbconvert_exporter": "python",
   "pygments_lexer": "ipython3",
   "version": "3.12.5"
  }
 },
 "nbformat": 4,
 "nbformat_minor": 2
}
