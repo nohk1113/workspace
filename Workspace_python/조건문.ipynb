{
 "cells": [
  {
   "cell_type": "code",
   "execution_count": 1,
   "metadata": {},
   "outputs": [
    {
     "name": "stdout",
     "output_type": "stream",
     "text": [
      "3\n"
     ]
    }
   ],
   "source": [
    "# 파이썬은 세미콜론이 없다 ; \n",
    "# 파이썬은 중괄호도 없다 (){}\n",
    "num=5\n",
    "\n",
    "if num>10 :\n",
    "  print(1)\n",
    "elif num>5 :\n",
    "  print(2)\n",
    "else :\n",
    "  print(3)"
   ]
  },
  {
   "cell_type": "code",
   "execution_count": null,
   "metadata": {},
   "outputs": [],
   "source": [
    "# 조건문의 영역은 어디까지 인가?\n",
    "#  파이썬은 모든 문법의 영역을 들려쓰기로 판단\n",
    "if 10<5 :\n",
    "  print(1)\n",
    "  print(2)\n",
    "print(1)"
   ]
  },
  {
   "cell_type": "code",
   "execution_count": 4,
   "metadata": {},
   "outputs": [
    {
     "name": "stdout",
     "output_type": "stream",
     "text": [
      "5\n"
     ]
    }
   ],
   "source": [
    "# 키보드로 두 정수를 입력받아 두정수 중 큰수를 출력\n",
    "num1=input('정수를 입력: ')\n",
    "num2=input('정수를 입력: ')\n",
    "\n",
    "if num1>num2:\n",
    "  print(num1)\n",
    "elif num2>num1:\n",
    "  print(num2)\n",
    "else:\n",
    "  print('같습니다')"
   ]
  }
 ],
 "metadata": {
  "kernelspec": {
   "display_name": "Python 3",
   "language": "python",
   "name": "python3"
  },
  "language_info": {
   "codemirror_mode": {
    "name": "ipython",
    "version": 3
   },
   "file_extension": ".py",
   "mimetype": "text/x-python",
   "name": "python",
   "nbconvert_exporter": "python",
   "pygments_lexer": "ipython3",
   "version": "3.12.5"
  }
 },
 "nbformat": 4,
 "nbformat_minor": 2
}
